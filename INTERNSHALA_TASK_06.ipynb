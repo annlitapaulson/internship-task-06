{
  "nbformat": 4,
  "nbformat_minor": 0,
  "metadata": {
    "colab": {
      "provenance": [],
      "authorship_tag": "ABX9TyNFGEvvM0kyjQBtsTgHlKKs",
      "include_colab_link": true
    },
    "kernelspec": {
      "name": "python3",
      "display_name": "Python 3"
    },
    "language_info": {
      "name": "python"
    }
  },
  "cells": [
    {
      "cell_type": "markdown",
      "metadata": {
        "id": "view-in-github",
        "colab_type": "text"
      },
      "source": [
        "<a href=\"https://colab.research.google.com/github/annlitapaulson/internship-task-06/blob/main/INTERNSHALA_TASK_06.ipynb\" target=\"_parent\"><img src=\"https://colab.research.google.com/assets/colab-badge.svg\" alt=\"Open In Colab\"/></a>"
      ]
    },
    {
      "cell_type": "code",
      "execution_count": 1,
      "metadata": {
        "colab": {
          "base_uri": "https://localhost:8080/"
        },
        "id": "47_E6csyg42E",
        "outputId": "569d56ce-4dbe-48a9-e7cc-4d0717f35776"
      },
      "outputs": [
        {
          "output_type": "stream",
          "name": "stdout",
          "text": [
            "📊 Monthly Sales Trend Summary:\n",
            "   Year  Month  monthly_revenue  monthly_order_volume\n",
            "0  2024      1         14548.32                    31\n",
            "1  2024      2         10803.37                    29\n",
            "2  2024      3         12849.24                    31\n",
            "3  2024      4         12451.69                    30\n",
            "4  2024      5          8455.49                    31\n",
            "5  2024      6          7384.55                    30\n",
            "6  2024      7          6797.08                    31\n",
            "7  2024      8          7278.11                    27\n"
          ]
        }
      ],
      "source": [
        "import pandas as pd\n",
        "\n",
        "df = pd.read_csv('/content/Online Sales Data.csv')\n",
        "\n",
        "df['Date'] = pd.to_datetime(df['Date'])\n",
        "\n",
        "df['Year'] = df['Date'].dt.year\n",
        "df['Month'] = df['Date'].dt.month\n",
        "\n",
        "monthly_summary = df.groupby(['Year', 'Month']).agg(\n",
        "    monthly_revenue=('Total Revenue', 'sum'),\n",
        "    monthly_order_volume=('Transaction ID', 'nunique')\n",
        ").reset_index().sort_values(['Year', 'Month'])\n",
        "\n",
        "print(\"📊 Monthly Sales Trend Summary:\")\n",
        "print(monthly_summary)\n"
      ]
    }
  ]
}